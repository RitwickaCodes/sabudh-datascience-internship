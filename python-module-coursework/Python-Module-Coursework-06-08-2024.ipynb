{
 "cells": [
  {
   "cell_type": "markdown",
   "id": "701babdf",
   "metadata": {},
   "source": [
    "# Python Module Coursework 06-08-2024"
   ]
  },
  {
   "cell_type": "markdown",
   "id": "1c0d2879",
   "metadata": {},
   "source": [
    "This notebook contains solutions to various exercises involving Python Lists, Tuples, Dictionaries, Numpy and Pandas which we have learned through out the week."
   ]
  },
  {
   "cell_type": "markdown",
   "id": "1ebd3aeb",
   "metadata": {},
   "source": [
    "## Task 1: Lists"
   ]
  },
  {
   "cell_type": "markdown",
   "id": "0b21dd98",
   "metadata": {},
   "source": [
    "### 1. Write a Python program to multiply all the items in a list."
   ]
  },
  {
   "cell_type": "code",
   "execution_count": 2,
   "id": "3b53a4f4",
   "metadata": {},
   "outputs": [
    {
     "data": {
      "text/plain": [
       "24"
      ]
     },
     "execution_count": 2,
     "metadata": {},
     "output_type": "execute_result"
    }
   ],
   "source": [
    "def multiply_list(lst):\n",
    "    result = 1\n",
    "    for num in lst:\n",
    "        result *= num\n",
    "    return result\n",
    "# Example Usage\n",
    "example_list = [1, 2, 3, 4]\n",
    "multiply_list(example_list)"
   ]
  },
  {
   "cell_type": "markdown",
   "id": "0018225d",
   "metadata": {},
   "source": [
    "### 2. Write a Python program to get the largest number from a list."
   ]
  },
  {
   "cell_type": "code",
   "execution_count": 4,
   "id": "46008820",
   "metadata": {},
   "outputs": [
    {
     "name": "stdout",
     "output_type": "stream",
     "text": [
      "[4, 7, 10, 3, 6]\n",
      "The largest number from the list is 10\n"
     ]
    }
   ],
   "source": [
    "my_list = [4, 7, 10, 3, 6]\n",
    "largest = max(my_list)\n",
    "print(my_list)\n",
    "print(\"The largest number from the list is\",largest)"
   ]
  },
  {
   "cell_type": "markdown",
   "id": "c9126a90",
   "metadata": {},
   "source": [
    "### 3. Write a Python program to get the smallest number from a list."
   ]
  },
  {
   "cell_type": "code",
   "execution_count": 5,
   "id": "7374bb6c",
   "metadata": {},
   "outputs": [
    {
     "name": "stdout",
     "output_type": "stream",
     "text": [
      "[4, 7, 10, 3, 6]\n",
      "The smallest number from the list is 3\n"
     ]
    }
   ],
   "source": [
    "my_list = [4, 7, 10, 3, 6]\n",
    "smallest = min(my_list)\n",
    "print(my_list)\n",
    "print(\"The smallest number from the list is\",smallest)"
   ]
  },
  {
   "cell_type": "markdown",
   "id": "cac28d51",
   "metadata": {},
   "source": [
    "### 4. Write a Python program to get a list, sorted in increasing order by the last element in each tuple from a given list of non-empty tuples."
   ]
  },
  {
   "cell_type": "code",
   "execution_count": 7,
   "id": "f34949df",
   "metadata": {},
   "outputs": [
    {
     "name": "stdout",
     "output_type": "stream",
     "text": [
      "[(2, 1), (1, 2), (2, 3), (4, 4), (2, 5)]\n"
     ]
    }
   ],
   "source": [
    "my_list = [(2, 5), (1, 2), (4, 4), (2, 3), (2, 1)]\n",
    "sorted_list = sorted(my_list, key=lambda x: x[-1])\n",
    "print(sorted_list)"
   ]
  },
  {
   "cell_type": "markdown",
   "id": "8fc8a623",
   "metadata": {},
   "source": [
    "### 5. Write a Python program to remove duplicates from a list."
   ]
  },
  {
   "cell_type": "code",
   "execution_count": 9,
   "id": "f0fd769f",
   "metadata": {},
   "outputs": [
    {
     "name": "stdout",
     "output_type": "stream",
     "text": [
      "[4, 7, 10, 3, 6, 8, 7, 10, 3, 6, 6]\n",
      "After removing duplicates\n",
      "[3, 4, 6, 7, 8, 10]\n"
     ]
    }
   ],
   "source": [
    "my_list = [4, 7, 10, 3, 6, 8, 7, 10, 3, 6, 6]\n",
    "new_list = list(set(my_list))\n",
    "print(my_list)\n",
    "print(\"After removing duplicates\")\n",
    "print(new_list)"
   ]
  },
  {
   "cell_type": "markdown",
   "id": "134c01c3",
   "metadata": {},
   "source": [
    "### 6. Write a Python program to check if a list is empty or not."
   ]
  },
  {
   "cell_type": "code",
   "execution_count": 11,
   "id": "bffbb97c",
   "metadata": {},
   "outputs": [
    {
     "name": "stdout",
     "output_type": "stream",
     "text": [
      "List1 is empty:\n",
      "True\n",
      "List2 is empty:\n",
      "False\n"
     ]
    }
   ],
   "source": [
    "my_list1 = []\n",
    "my_list2 = [1,2,3]\n",
    "print(\"List1 is empty:\" )\n",
    "print(len(my_list1)==0)\n",
    "print(\"List2 is empty:\" )\n",
    "print(len(my_list2)==0)"
   ]
  },
  {
   "cell_type": "markdown",
   "id": "9ce38a43",
   "metadata": {},
   "source": [
    "### 7. Write a Python program to count the lowercase letters in a given list of word"
   ]
  },
  {
   "cell_type": "code",
   "execution_count": 12,
   "id": "79eee8d0",
   "metadata": {},
   "outputs": [
    {
     "name": "stdout",
     "output_type": "stream",
     "text": [
      "Total lowercase letters: 13\n"
     ]
    }
   ],
   "source": [
    "words = [\"Hello\", \"World\", \"Python\"]\n",
    "lowercase_count = 0\n",
    "for word in words:\n",
    "    for char in word:\n",
    "        if char.islower():\n",
    "            lowercase_count += 1\n",
    "\n",
    "print(\"Total lowercase letters:\", lowercase_count)\n"
   ]
  },
  {
   "cell_type": "markdown",
   "id": "d16d1749",
   "metadata": {},
   "source": [
    "### 8. Write a Python program to extract specified number of elements from a given list, which follows each other continuously. "
   ]
  },
  {
   "cell_type": "code",
   "execution_count": 13,
   "id": "63375a84",
   "metadata": {},
   "outputs": [],
   "source": [
    "def extract_continuous_elements(my_list, n):\n",
    "    result = []\n",
    "    for i in range(len(my_list) - n + 1):\n",
    "        if len(set(my_list[i:i + n])) == 1:\n",
    "            result.append(my_list[i])\n",
    "    return list(set(result))"
   ]
  },
  {
   "cell_type": "markdown",
   "id": "95b4d34f",
   "metadata": {},
   "source": [
    "####  Original list:  [1, 1, 3, 4, 4, 5, 6, 7]\n",
    "####  Extract 2 number of elements from the said list which follows each other continuously"
   ]
  },
  {
   "cell_type": "code",
   "execution_count": 14,
   "id": "57a286af",
   "metadata": {},
   "outputs": [
    {
     "data": {
      "text/plain": [
       "[1, 4]"
      ]
     },
     "execution_count": 14,
     "metadata": {},
     "output_type": "execute_result"
    }
   ],
   "source": [
    "my_list =  [1, 1, 3, 4, 4, 5, 6, 7]\n",
    "extract_continuous_elements(my_list, 2)"
   ]
  },
  {
   "cell_type": "markdown",
   "id": "98c6a249",
   "metadata": {},
   "source": [
    "#### Original list: [0, 1, 2, 3, 4, 4, 4, 4, 5, 7]\n",
    "\n",
    "#### Extract 4 number of elements from the said list which follows each other continuously"
   ]
  },
  {
   "cell_type": "code",
   "execution_count": 15,
   "id": "5c96c8de",
   "metadata": {},
   "outputs": [
    {
     "data": {
      "text/plain": [
       "[4]"
      ]
     },
     "execution_count": 15,
     "metadata": {},
     "output_type": "execute_result"
    }
   ],
   "source": [
    "my_list =  [0, 1, 2, 3, 4, 4, 4, 4, 5, 7]\n",
    "extract_continuous_elements(my_list, 4)"
   ]
  },
  {
   "cell_type": "markdown",
   "id": "e141aee9",
   "metadata": {},
   "source": [
    "### 9. Write a Python program to find the largest odd number in a given list of integers.\n",
    " "
   ]
  },
  {
   "cell_type": "code",
   "execution_count": 16,
   "id": "7c0b479d",
   "metadata": {},
   "outputs": [],
   "source": [
    "def largest_odd_number(lst):\n",
    "    odd_numbers = [num for num in lst if num % 2 != 0]\n",
    "    return max(odd_numbers) if odd_numbers else None"
   ]
  },
  {
   "cell_type": "code",
   "execution_count": 17,
   "id": "41a37113",
   "metadata": {},
   "outputs": [
    {
     "name": "stdout",
     "output_type": "stream",
     "text": [
      "9\n"
     ]
    }
   ],
   "source": [
    "#Sample data1\n",
    "my_list = [0, 9, 2, 4, 5, 6]\n",
    "print(largest_odd_number(my_list))"
   ]
  },
  {
   "cell_type": "code",
   "execution_count": 18,
   "id": "51d60ae6",
   "metadata": {},
   "outputs": [
    {
     "name": "stdout",
     "output_type": "stream",
     "text": [
      "1\n"
     ]
    }
   ],
   "source": [
    "#Sample data2\n",
    "my_list = [-4, 0, 6, 1, 0, 2]\n",
    "print(largest_odd_number(my_list))"
   ]
  },
  {
   "cell_type": "code",
   "execution_count": 19,
   "id": "b75b3071",
   "metadata": {},
   "outputs": [
    {
     "name": "stdout",
     "output_type": "stream",
     "text": [
      "3\n"
     ]
    }
   ],
   "source": [
    "#Sample data3\n",
    "my_list = [1, 2, 3]\n",
    "print(largest_odd_number(my_list))"
   ]
  },
  {
   "cell_type": "code",
   "execution_count": 21,
   "id": "abea9641",
   "metadata": {},
   "outputs": [
    {
     "name": "stdout",
     "output_type": "stream",
     "text": [
      "5\n"
     ]
    }
   ],
   "source": [
    "#Sample data4\n",
    "my_list = [-4, 0, 5, 1, 0, 1]\n",
    "print(largest_odd_number(my_list))"
   ]
  },
  {
   "cell_type": "markdown",
   "id": "d07cfd28",
   "metadata": {},
   "source": [
    "### 10. Write a Python program to print a specified list after removing the 0th, 4th and 5th elements."
   ]
  },
  {
   "cell_type": "code",
   "execution_count": 23,
   "id": "da58f511",
   "metadata": {},
   "outputs": [
    {
     "name": "stdout",
     "output_type": "stream",
     "text": [
      "['B', 'C', 'D']\n"
     ]
    }
   ],
   "source": [
    "def remove_elements(lst):\n",
    "    return [lst[i] for i in range(len(lst)) if i not in [0, 4, 5]]\n",
    "my_list =  ['A', 'B', 'C', 'D','E', 'F']\n",
    "print(remove_elements(my_list))"
   ]
  },
  {
   "cell_type": "markdown",
   "id": "2fcea894",
   "metadata": {},
   "source": [
    "## Task 2: Tuples"
   ]
  },
  {
   "cell_type": "markdown",
   "id": "7197ebda",
   "metadata": {},
   "source": [
    "### 1. Write a Python program to create a tuple with different data types."
   ]
  },
  {
   "cell_type": "code",
   "execution_count": 24,
   "id": "4f7eae79",
   "metadata": {},
   "outputs": [
    {
     "name": "stdout",
     "output_type": "stream",
     "text": [
      "('Hello', 5, 3.14, True)\n"
     ]
    }
   ],
   "source": [
    "my_tuple = ('Hello',5 ,3.14 ,True)\n",
    "print(my_tuple)"
   ]
  },
  {
   "cell_type": "markdown",
   "id": "4a5ab9c6",
   "metadata": {},
   "source": [
    "### 2. Write a Python program to create a tuple of numbers and print one item."
   ]
  },
  {
   "cell_type": "code",
   "execution_count": 25,
   "id": "0eb348e9",
   "metadata": {},
   "outputs": [
    {
     "name": "stdout",
     "output_type": "stream",
     "text": [
      "4\n"
     ]
    }
   ],
   "source": [
    "numbers = (1,2,3,4,5)\n",
    "print(numbers[3])"
   ]
  },
  {
   "cell_type": "markdown",
   "id": "5c2e0d2a",
   "metadata": {},
   "source": [
    "### 3. Write a Python program to add an item to a tuple."
   ]
  },
  {
   "cell_type": "code",
   "execution_count": 26,
   "id": "0c6203ec",
   "metadata": {},
   "outputs": [
    {
     "name": "stdout",
     "output_type": "stream",
     "text": [
      "(1, 2, 3, 4, 5, 6)\n"
     ]
    }
   ],
   "source": [
    "numbers = (1,2,3,4,5)\n",
    "print(numbers + (6, ))"
   ]
  },
  {
   "cell_type": "markdown",
   "id": "1ba56757",
   "metadata": {},
   "source": [
    "### 4. Write a Python program to get the 4th element from the last element of a Tuple."
   ]
  },
  {
   "cell_type": "code",
   "execution_count": 28,
   "id": "e17fb1a1",
   "metadata": {},
   "outputs": [
    {
     "name": "stdout",
     "output_type": "stream",
     "text": [
      "5\n"
     ]
    }
   ],
   "source": [
    "numbers = (1,2,3,4,5,6,7,8)\n",
    "print(numbers[-4])"
   ]
  },
  {
   "cell_type": "markdown",
   "id": "4ef64e5f",
   "metadata": {},
   "source": [
    "### 5. Write a Python program to convert a tuple to a dictionary."
   ]
  },
  {
   "cell_type": "code",
   "execution_count": 31,
   "id": "a86be5c2",
   "metadata": {},
   "outputs": [
    {
     "name": "stdout",
     "output_type": "stream",
     "text": [
      "{'a': 1, 'b': 2, 'c': 3}\n"
     ]
    }
   ],
   "source": [
    "my_tuple = (('a', 1), ('b', 2), ('c', 3))\n",
    "print(dict(my_tuple))"
   ]
  },
  {
   "cell_type": "markdown",
   "id": "95f1e7a6",
   "metadata": {},
   "source": [
    "### 6. Write a Python program to replace the last value of tuples in a list."
   ]
  },
  {
   "cell_type": "code",
   "execution_count": 32,
   "id": "9e964b0a",
   "metadata": {},
   "outputs": [
    {
     "name": "stdout",
     "output_type": "stream",
     "text": [
      "Modified List: [(10, 20, 100), (40, 50, 100), (70, 80, 100)]\n"
     ]
    }
   ],
   "source": [
    "# Given list of tuples\n",
    "sample_list = [(10, 20, 40), (40, 50, 60), (70, 80, 90)]\n",
    "\n",
    "# Replace the last element of each tuple with 100\n",
    "modified_list = [t[:-1] + (100,) for t in sample_list]\n",
    "print(\"Modified List:\", modified_list)"
   ]
  },
  {
   "cell_type": "markdown",
   "id": "c6e5afc1",
   "metadata": {},
   "source": [
    "## Task 3: Dictionary"
   ]
  },
  {
   "cell_type": "markdown",
   "id": "823fc424",
   "metadata": {},
   "source": [
    "### 1. Write a Python script to sort (ascending and descending) a dictionary by value."
   ]
  },
  {
   "cell_type": "code",
   "execution_count": 35,
   "id": "26631f74",
   "metadata": {},
   "outputs": [
    {
     "name": "stdout",
     "output_type": "stream",
     "text": [
      "Dictionary sorted in ascending order by value: {'banana': 2, 'apple': 5, 'cherry': 8}\n",
      "Dictionary sorted in descending order by value: {'cherry': 8, 'apple': 5, 'banana': 2}\n"
     ]
    }
   ],
   "source": [
    "my_dict = {'apple': 5, 'banana': 2, 'cherry': 8}\n",
    "\n",
    "# Sort dictionary by value in ascending order\n",
    "ascending_sorted_dict = dict(sorted(my_dict.items(), key=lambda item: item[1]))\n",
    "\n",
    "# Sort dictionary by value in descending order\n",
    "descending_sorted_dict = dict(sorted(my_dict.items(), key=lambda item: item[1], reverse=True))\n",
    "\n",
    "print(\"Dictionary sorted in ascending order by value:\", ascending_sorted_dict)\n",
    "print(\"Dictionary sorted in descending order by value:\", descending_sorted_dict)\n"
   ]
  },
  {
   "cell_type": "markdown",
   "id": "64f17adb",
   "metadata": {},
   "source": [
    "### 2. Write a Python program to iterate over dictionaries using for loops."
   ]
  },
  {
   "cell_type": "code",
   "execution_count": 36,
   "id": "8866901e",
   "metadata": {},
   "outputs": [
    {
     "name": "stdout",
     "output_type": "stream",
     "text": [
      "Key: apple, Value: 5\n",
      "Key: banana, Value: 2\n",
      "Key: cherry, Value: 8\n"
     ]
    }
   ],
   "source": [
    "my_dict = {'apple': 5, 'banana': 2, 'cherry': 8}\n",
    "for key, value in my_dict.items():\n",
    "        print(f\"Key: {key}, Value: {value}\")"
   ]
  },
  {
   "cell_type": "markdown",
   "id": "3529a76f",
   "metadata": {},
   "source": [
    "### 3. Write a Python script to merge two Python dictionaries."
   ]
  },
  {
   "cell_type": "code",
   "execution_count": 37,
   "id": "5dcf44dd",
   "metadata": {},
   "outputs": [
    {
     "name": "stdout",
     "output_type": "stream",
     "text": [
      "{'apple': 5, 'banana': 2, 'cherry': 8, 'mango': 3, 'guava': 7, 'grapes': 1}\n"
     ]
    }
   ],
   "source": [
    "my_dict1 = {'apple': 5, 'banana': 2, 'cherry': 8}\n",
    "my_dict2 = {'mango': 3, 'guava': 7, 'grapes': 1}\n",
    "my_dict1.update(my_dict2)\n",
    "print(my_dict1)"
   ]
  },
  {
   "cell_type": "markdown",
   "id": "d7bb1a9e",
   "metadata": {},
   "source": [
    "### 4. Write a Python program to sum all the items in a dictionary."
   ]
  },
  {
   "cell_type": "code",
   "execution_count": 38,
   "id": "1c367cd3",
   "metadata": {},
   "outputs": [
    {
     "name": "stdout",
     "output_type": "stream",
     "text": [
      "15\n"
     ]
    }
   ],
   "source": [
    "my_dict = {'apple': 5, 'banana': 2, 'cherry': 8}\n",
    "print(sum(my_dict.values()))"
   ]
  },
  {
   "cell_type": "markdown",
   "id": "e4e6e462",
   "metadata": {},
   "source": [
    "### 5. Write a Python program to multiply all the items in a dictionary."
   ]
  },
  {
   "cell_type": "code",
   "execution_count": 40,
   "id": "69cc6e61",
   "metadata": {},
   "outputs": [
    {
     "name": "stdout",
     "output_type": "stream",
     "text": [
      "80\n"
     ]
    }
   ],
   "source": [
    "my_dict = {'apple': 5, 'banana': 2, 'cherry': 8}\n",
    "result=1\n",
    "for value in my_dict.values():\n",
    "    result*=value\n",
    "print(result)"
   ]
  },
  {
   "cell_type": "markdown",
   "id": "68349bc4",
   "metadata": {},
   "source": [
    "### 6. Write a Python program to sort a given dictionary by key."
   ]
  },
  {
   "cell_type": "code",
   "execution_count": 42,
   "id": "0ff65ca2",
   "metadata": {},
   "outputs": [
    {
     "name": "stdout",
     "output_type": "stream",
     "text": [
      "[('apple', 5), ('banana', 2), ('cherry', 8)]\n"
     ]
    }
   ],
   "source": [
    "my_dict = {'apple': 5, 'cherry': 8,'banana': 2}\n",
    "print(sorted(my_dict.items()))"
   ]
  },
  {
   "cell_type": "markdown",
   "id": "095a858c",
   "metadata": {},
   "source": [
    "### 7. Write a Python program to remove duplicates from the dictionary."
   ]
  },
  {
   "cell_type": "code",
   "execution_count": 43,
   "id": "a312641c",
   "metadata": {},
   "outputs": [
    {
     "name": "stdout",
     "output_type": "stream",
     "text": [
      "Dictionary after removing duplicates: {'apple': 5, 'banana': 2, 'cherry': 8, 'mango': 3}\n"
     ]
    }
   ],
   "source": [
    "my_dict = {'apple': 5, 'banana': 2, 'cherry': 8, 'mango': 3, 'guava': 2, 'grape': 8}\n",
    "unique_dict = {}\n",
    "seen_values = set()\n",
    "\n",
    "for key, value in my_dict.items():\n",
    "    if value not in seen_values:\n",
    "        unique_dict[key] = value\n",
    "        seen_values.add(value)\n",
    "print(\"Dictionary after removing duplicates:\", unique_dict)\n"
   ]
  },
  {
   "cell_type": "markdown",
   "id": "b4f4c67f",
   "metadata": {},
   "source": [
    "## Task 4. Numpy"
   ]
  },
  {
   "cell_type": "markdown",
   "id": "8e33fb0c",
   "metadata": {},
   "source": [
    "### 1. Numpy array creation and manipulation"
   ]
  },
  {
   "cell_type": "code",
   "execution_count": 44,
   "id": "8c9353c3",
   "metadata": {},
   "outputs": [],
   "source": [
    "import numpy as np\n",
    "\n",
    "#Create a 1D Numpy array “a” containing 10 random integers between 0 and 99.\n",
    "a = np.random.randint(0, 100, size=10)\n",
    "\n",
    "#Create a 2D Numpy array “b” of shape (3, 4) containing random integers between -10 and 10.\n",
    "b = np.random.randint(-10, 10, size=(3, 4))\n",
    "\n",
    "#Reshape “b” into a 1D Numpy array “b_flat”.\n",
    "b_flat = b.flatten()\n",
    "\n",
    "#Create a copy of “a” called “a_copy”, and set the first element of “a_copy” to -1.\n",
    "a_copy = a.copy()\n",
    "a_copy[0] = -1\n",
    "\n",
    "#Create a 1D Numpy array “c” containing every second element of “a”.\n",
    "c = a[::2]\n"
   ]
  },
  {
   "cell_type": "markdown",
   "id": "b2cc2234",
   "metadata": {},
   "source": [
    "### 2. Numpy array indexing and slicing"
   ]
  },
  {
   "cell_type": "code",
   "execution_count": 52,
   "id": "7350e722",
   "metadata": {},
   "outputs": [
    {
     "data": {
      "text/plain": [
       "92"
      ]
     },
     "execution_count": 52,
     "metadata": {},
     "output_type": "execute_result"
    }
   ],
   "source": [
    "#Print the third element of “a”.\n",
    "a[2]"
   ]
  },
  {
   "cell_type": "code",
   "execution_count": 53,
   "id": "dc2e1cf4",
   "metadata": {},
   "outputs": [
    {
     "data": {
      "text/plain": [
       "0"
      ]
     },
     "execution_count": 53,
     "metadata": {},
     "output_type": "execute_result"
    }
   ],
   "source": [
    "#Print the last element of “b”.\n",
    "b[-1,-1]"
   ]
  },
  {
   "cell_type": "code",
   "execution_count": 51,
   "id": "c28cc9ab",
   "metadata": {},
   "outputs": [
    {
     "data": {
      "text/plain": [
       "array([[  4, -10],\n",
       "       [ -9,   9]])"
      ]
     },
     "execution_count": 51,
     "metadata": {},
     "output_type": "execute_result"
    }
   ],
   "source": [
    "#Print the first two rows and last two columns of “b”.\n",
    "b[:2, -2:]"
   ]
  },
  {
   "cell_type": "code",
   "execution_count": 54,
   "id": "ced19ccc",
   "metadata": {},
   "outputs": [],
   "source": [
    "#Assign the second row of “b” to a variable called “b_row”.\n",
    "b_row = b[1, :]"
   ]
  },
  {
   "cell_type": "code",
   "execution_count": 55,
   "id": "5f9207e1",
   "metadata": {},
   "outputs": [],
   "source": [
    "#Assign the first column of “b” to a variable called “b_col”.\n",
    "b_col = b[:, 0]"
   ]
  },
  {
   "cell_type": "markdown",
   "id": "197e0b66",
   "metadata": {},
   "source": [
    "### 3. Numpy array operations"
   ]
  },
  {
   "cell_type": "code",
   "execution_count": 56,
   "id": "c0b28dfa",
   "metadata": {},
   "outputs": [],
   "source": [
    "#Create a 1D Numpy array “d” containing the integers from 1 to 10.\n",
    "d = np.arange(1, 11)"
   ]
  },
  {
   "cell_type": "code",
   "execution_count": 57,
   "id": "5be876fb",
   "metadata": {},
   "outputs": [],
   "source": [
    "#Add “a” and “d” element-wise to create a new Numpy array “e”.\n",
    "e = a + d"
   ]
  },
  {
   "cell_type": "code",
   "execution_count": 58,
   "id": "d99b8d4b",
   "metadata": {},
   "outputs": [],
   "source": [
    "#Multiply “b” by 2 to create a new Numpy array “b_double”.\n",
    "b_double = b * 2"
   ]
  },
  {
   "cell_type": "code",
   "execution_count": 60,
   "id": "c6344521",
   "metadata": {},
   "outputs": [],
   "source": [
    "#Calculate the dot product of “b” and “b_double” to create a new Numpy array “f”.\n",
    "f = np.dot(b, b_double.T)"
   ]
  },
  {
   "cell_type": "code",
   "execution_count": 63,
   "id": "f76b2afb",
   "metadata": {},
   "outputs": [],
   "source": [
    "#Calculate the mean of “a”,” b”, and “b_double” to create a new Numpy array “g”.\n",
    "mean_a = np.mean(a)\n",
    "mean_b = np.mean(b)\n",
    "mean_b_double = np.mean(b_double)\n",
    "\n",
    "g = np.array([mean_a, mean_b, mean_b_double])"
   ]
  },
  {
   "cell_type": "markdown",
   "id": "e548b656",
   "metadata": {},
   "source": [
    "### 4. Numpy array aggregation"
   ]
  },
  {
   "cell_type": "code",
   "execution_count": 64,
   "id": "a4b45d67",
   "metadata": {},
   "outputs": [
    {
     "data": {
      "text/plain": [
       "605"
      ]
     },
     "execution_count": 64,
     "metadata": {},
     "output_type": "execute_result"
    }
   ],
   "source": [
    "#Find the sum of every element in “a” and assign it to a variable “a_sum”.\n",
    "a_sum = np.sum(a)\n",
    "a_sum"
   ]
  },
  {
   "cell_type": "code",
   "execution_count": 65,
   "id": "62998f4e",
   "metadata": {},
   "outputs": [
    {
     "data": {
      "text/plain": [
       "-10"
      ]
     },
     "execution_count": 65,
     "metadata": {},
     "output_type": "execute_result"
    }
   ],
   "source": [
    "#Find the minimum element in “b” and assign it to a variable “b_min”.\n",
    "b_min = np.min(b)\n",
    "b_min"
   ]
  },
  {
   "cell_type": "code",
   "execution_count": 66,
   "id": "bbd00601",
   "metadata": {},
   "outputs": [
    {
     "data": {
      "text/plain": [
       "18"
      ]
     },
     "execution_count": 66,
     "metadata": {},
     "output_type": "execute_result"
    }
   ],
   "source": [
    "#Find the maximum element in “b_double” and assign it to a variable “b_double_max”.\n",
    "b_double_max = np.max(b_double)\n",
    "b_double_max"
   ]
  },
  {
   "cell_type": "markdown",
   "id": "c0b6ae8d",
   "metadata": {},
   "source": [
    "## Task 5 : Pandas\n",
    "\n"
   ]
  },
  {
   "cell_type": "code",
   "execution_count": 67,
   "id": "4b7a429e",
   "metadata": {},
   "outputs": [],
   "source": [
    "import pandas as pd"
   ]
  },
  {
   "cell_type": "code",
   "execution_count": 70,
   "id": "a43ff997",
   "metadata": {},
   "outputs": [
    {
     "name": "stdout",
     "output_type": "stream",
     "text": [
      "      Car Make Car Model  Year Engine Size (L) Horsepower Torque (lb-ft)  \\\n",
      "0      Porsche       911  2022               3        379            331   \n",
      "1  Lamborghini   Huracan  2021             5.2        630            443   \n",
      "2      Ferrari   488 GTB  2022             3.9        661            561   \n",
      "3         Audi        R8  2022             5.2        562            406   \n",
      "4      McLaren      720S  2021               4        710            568   \n",
      "\n",
      "  0-60 MPH Time (seconds) Price (in USD)  \n",
      "0                       4        101,200  \n",
      "1                     2.8        274,390  \n",
      "2                       3        333,750  \n",
      "3                     3.2        142,700  \n",
      "4                     2.7        298,000  \n"
     ]
    }
   ],
   "source": [
    "#Load the dataset into a Pandas DataFrame and display the first 5 rows to get an idea of the data.\n",
    "df = pd.read_csv('sport_car_prices.csv')\n",
    "print(df.head())"
   ]
  },
  {
   "cell_type": "code",
   "execution_count": 72,
   "id": "464a34cb",
   "metadata": {},
   "outputs": [
    {
     "data": {
      "text/html": [
       "<div>\n",
       "<style scoped>\n",
       "    .dataframe tbody tr th:only-of-type {\n",
       "        vertical-align: middle;\n",
       "    }\n",
       "\n",
       "    .dataframe tbody tr th {\n",
       "        vertical-align: top;\n",
       "    }\n",
       "\n",
       "    .dataframe thead th {\n",
       "        text-align: right;\n",
       "    }\n",
       "</style>\n",
       "<table border=\"1\" class=\"dataframe\">\n",
       "  <thead>\n",
       "    <tr style=\"text-align: right;\">\n",
       "      <th></th>\n",
       "      <th>Car Make</th>\n",
       "      <th>Car Model</th>\n",
       "      <th>Year</th>\n",
       "      <th>Engine Size (L)</th>\n",
       "      <th>Horsepower</th>\n",
       "      <th>Torque (lb-ft)</th>\n",
       "      <th>0-60 MPH Time (seconds)</th>\n",
       "      <th>Price (in USD)</th>\n",
       "    </tr>\n",
       "  </thead>\n",
       "  <tbody>\n",
       "    <tr>\n",
       "      <th>0</th>\n",
       "      <td>Porsche</td>\n",
       "      <td>911</td>\n",
       "      <td>2022</td>\n",
       "      <td>3</td>\n",
       "      <td>379.0</td>\n",
       "      <td>331.0</td>\n",
       "      <td>4.0</td>\n",
       "      <td>101200.0</td>\n",
       "    </tr>\n",
       "    <tr>\n",
       "      <th>1</th>\n",
       "      <td>Lamborghini</td>\n",
       "      <td>Huracan</td>\n",
       "      <td>2021</td>\n",
       "      <td>5.2</td>\n",
       "      <td>630.0</td>\n",
       "      <td>443.0</td>\n",
       "      <td>2.8</td>\n",
       "      <td>274390.0</td>\n",
       "    </tr>\n",
       "    <tr>\n",
       "      <th>2</th>\n",
       "      <td>Ferrari</td>\n",
       "      <td>488 GTB</td>\n",
       "      <td>2022</td>\n",
       "      <td>3.9</td>\n",
       "      <td>661.0</td>\n",
       "      <td>561.0</td>\n",
       "      <td>3.0</td>\n",
       "      <td>333750.0</td>\n",
       "    </tr>\n",
       "    <tr>\n",
       "      <th>3</th>\n",
       "      <td>Audi</td>\n",
       "      <td>R8</td>\n",
       "      <td>2022</td>\n",
       "      <td>5.2</td>\n",
       "      <td>562.0</td>\n",
       "      <td>406.0</td>\n",
       "      <td>3.2</td>\n",
       "      <td>142700.0</td>\n",
       "    </tr>\n",
       "    <tr>\n",
       "      <th>4</th>\n",
       "      <td>McLaren</td>\n",
       "      <td>720S</td>\n",
       "      <td>2021</td>\n",
       "      <td>4</td>\n",
       "      <td>710.0</td>\n",
       "      <td>568.0</td>\n",
       "      <td>2.7</td>\n",
       "      <td>298000.0</td>\n",
       "    </tr>\n",
       "  </tbody>\n",
       "</table>\n",
       "</div>"
      ],
      "text/plain": [
       "      Car Make Car Model  Year Engine Size (L)  Horsepower  Torque (lb-ft)  \\\n",
       "0      Porsche       911  2022               3       379.0           331.0   \n",
       "1  Lamborghini   Huracan  2021             5.2       630.0           443.0   \n",
       "2      Ferrari   488 GTB  2022             3.9       661.0           561.0   \n",
       "3         Audi        R8  2022             5.2       562.0           406.0   \n",
       "4      McLaren      720S  2021               4       710.0           568.0   \n",
       "\n",
       "   0-60 MPH Time (seconds)  Price (in USD)  \n",
       "0                      4.0        101200.0  \n",
       "1                      2.8        274390.0  \n",
       "2                      3.0        333750.0  \n",
       "3                      3.2        142700.0  \n",
       "4                      2.7        298000.0  "
      ]
     },
     "execution_count": 72,
     "metadata": {},
     "output_type": "execute_result"
    }
   ],
   "source": [
    "#Use Pandas to clean the dataset by removing any missing or duplicate values, and converting any non-numeric data to numeric data where appropriate.\n",
    "df.dropna(inplace=True)\n",
    "df.drop_duplicates(inplace=True)\n",
    "# Convert non-numeric data to numeric data where appropriate\n",
    "df['Horsepower'] = pd.to_numeric(df['Horsepower'], errors='coerce')\n",
    "df['Torque (lb-ft)'] = pd.to_numeric(df['Torque (lb-ft)'], errors='coerce')\n",
    "df['0-60 MPH Time (seconds)'] = pd.to_numeric(df['0-60 MPH Time (seconds)'], errors='coerce')\n",
    "df['Price (in USD)'] = df['Price (in USD)'].replace('[\\$,]', '', regex=True).astype(float)\n",
    "\n",
    "# Drop any remaining rows with NaN values after conversion\n",
    "df = df.dropna()\n"
   ]
  },
  {
   "cell_type": "code",
   "execution_count": 73,
   "id": "afe67a48",
   "metadata": {},
   "outputs": [
    {
     "name": "stdout",
     "output_type": "stream",
     "text": [
      "       Car Make Car Model         Year Engine Size (L)   Horsepower  \\\n",
      "count       700       700   700.000000             700   700.000000   \n",
      "unique       38       176          NaN              43          NaN   \n",
      "top     Porsche        GT          NaN               4          NaN   \n",
      "freq         68        24          NaN             149          NaN   \n",
      "mean        NaN       NaN  2021.142857             NaN   614.657143   \n",
      "std         NaN       NaN     2.357138             NaN   298.989547   \n",
      "min         NaN       NaN  1965.000000             NaN   181.000000   \n",
      "25%         NaN       NaN  2021.000000             NaN   444.000000   \n",
      "50%         NaN       NaN  2021.000000             NaN   577.000000   \n",
      "75%         NaN       NaN  2022.000000             NaN   689.250000   \n",
      "max         NaN       NaN  2023.000000             NaN  2000.000000   \n",
      "\n",
      "        Torque (lb-ft)  0-60 MPH Time (seconds)  Price (in USD)  \n",
      "count       700.000000               700.000000    7.000000e+02  \n",
      "unique             NaN                      NaN             NaN  \n",
      "top                NaN                      NaN             NaN  \n",
      "freq               NaN                      NaN             NaN  \n",
      "mean        539.127143                 3.591243    3.787728e+05  \n",
      "std         244.740304                 0.778150    7.624847e+05  \n",
      "min         151.000000                 1.800000    2.500000e+04  \n",
      "25%         398.000000                 3.100000    7.000000e+04  \n",
      "50%         505.000000                 3.500000    1.305500e+05  \n",
      "75%         605.000000                 4.000000    2.250000e+05  \n",
      "max        1732.000000                 6.500000    5.200000e+06  \n"
     ]
    }
   ],
   "source": [
    "# Compute summary statistics for each column\n",
    "summary_stats = df.describe(include='all')\n",
    "print(summary_stats)"
   ]
  },
  {
   "cell_type": "code",
   "execution_count": 74,
   "id": "1294695e",
   "metadata": {},
   "outputs": [
    {
     "name": "stdout",
     "output_type": "stream",
     "text": [
      "Car Make\n",
      "Bugatti          3.413929e+06\n",
      "Koenigsegg       2.900000e+06\n",
      "Pagani           2.809091e+06\n",
      "Pininfarina      2.500000e+06\n",
      "Rimac            2.400000e+06\n",
      "W Motors         2.216667e+06\n",
      "Shelby           1.000000e+06\n",
      "Lotus            6.072589e+05\n",
      "Lamborghini      4.732617e+05\n",
      "Rolls-Royce      3.335944e+05\n",
      "McLaren          3.216477e+05\n",
      "Ferrari          3.000600e+05\n",
      "Ford             2.328552e+05\n",
      "Aston Martin     2.224352e+05\n",
      "Ultima           2.200000e+05\n",
      "Bentley          2.161760e+05\n",
      "Mercedes-Benz    1.615324e+05\n",
      "Acura            1.581650e+05\n",
      "Polestar         1.550000e+05\n",
      "Mercedes-AMG     1.538000e+05\n",
      "Maserati         1.464203e+05\n",
      "Tesla            1.430575e+05\n",
      "TVR              1.405000e+05\n",
      "Porsche          1.350485e+05\n",
      "Lexus            9.383333e+04\n",
      "Audi             9.135337e+04\n",
      "BMW              8.064097e+04\n",
      "Jaguar           7.643810e+04\n",
      "Ariel            7.500000e+04\n",
      "Alfa Romeo       7.459967e+04\n",
      "Dodge            7.166649e+04\n",
      "Alpine           7.150000e+04\n",
      "Chevrolet        5.465270e+04\n",
      "Kia              5.220000e+04\n",
      "Nissan           4.681161e+04\n",
      "Toyota           4.306000e+04\n",
      "Subaru           3.817000e+04\n",
      "Mazda            2.683000e+04\n",
      "Name: Price (in USD), dtype: float64\n"
     ]
    }
   ],
   "source": [
    "# Group the dataset by car make and compute the average price for each make\n",
    "avg_price_by_make = df.groupby('Car Make')['Price (in USD)'].mean().sort_values(ascending=False)\n",
    "print(avg_price_by_make)"
   ]
  },
  {
   "cell_type": "code",
   "execution_count": 75,
   "id": "16dbd709",
   "metadata": {},
   "outputs": [
    {
     "name": "stdout",
     "output_type": "stream",
     "text": [
      "Year\n",
      "2015    660.400000\n",
      "2017    645.000000\n",
      "2021    626.321519\n",
      "2014    622.000000\n",
      "2019    615.333333\n",
      "2022    610.367816\n",
      "2023    512.500000\n",
      "2020    462.083333\n",
      "1965    435.000000\n",
      "Name: Horsepower, dtype: float64\n"
     ]
    }
   ],
   "source": [
    "# Group the dataset by year and compute the average horsepower for each year\n",
    "avg_horsepower_by_year = df.groupby('Year')['Horsepower'].mean().sort_values(ascending=False)\n",
    "print(avg_horsepower_by_year)"
   ]
  },
  {
   "cell_type": "code",
   "execution_count": 76,
   "id": "49cf2e84",
   "metadata": {},
   "outputs": [
    {
     "data": {
      "image/png": "[encoded data removed]",
      "text/plain": [
       "<Figure size 1000x600 with 1 Axes>"
      ]
     },
     "metadata": {},
     "output_type": "display_data"
    }
   ],
   "source": [
    "import matplotlib.pyplot as plt\n",
    "import seaborn as sns\n",
    "from scipy.stats import linregress\n",
    "\n",
    "# Scatter plot of price vs horsepower\n",
    "plt.figure(figsize=(10, 6))\n",
    "sns.scatterplot(x='Horsepower', y='Price (in USD)', data=df)\n",
    "\n",
    "# Add a linear regression line to the plot\n",
    "slope, intercept, r_value, p_value, std_err = linregress(df['Horsepower'], df['Price (in USD)'])\n",
    "plt.plot(df['Horsepower'], intercept + slope * df['Horsepower'], color='red', label='Regression Line')\n",
    "\n",
    "plt.title('Scatter Plot of Price vs Horsepower')\n",
    "plt.xlabel('Horsepower')\n",
    "plt.ylabel('Price (in USD)')\n",
    "plt.legend()\n",
    "plt.show()\n"
   ]
  },
  {
   "cell_type": "code",
   "execution_count": 77,
   "id": "93af7325",
   "metadata": {},
   "outputs": [
    {
     "data": {
      "image/png": "[encoded data removed]",
      "text/plain": [
       "<Figure size 1000x600 with 1 Axes>"
      ]
     },
     "metadata": {},
     "output_type": "display_data"
    }
   ],
   "source": [
    "# Histogram of 0-60 MPH times with bins of size 0.5 seconds\n",
    "plt.figure(figsize=(10, 6))\n",
    "df['0-60 MPH Time (seconds)'].plot.hist(bins=12, edgecolor='black')\n",
    "\n",
    "plt.title('Histogram of 0-60 MPH Times')\n",
    "plt.xlabel('0-60 MPH Time (seconds)')\n",
    "plt.ylabel('Frequency')\n",
    "plt.show()\n"
   ]
  },
  {
   "cell_type": "code",
   "execution_count": 78,
   "id": "75fca9fd",
   "metadata": {},
   "outputs": [
    {
     "name": "stdout",
     "output_type": "stream",
     "text": [
      "         Car Make  Car Model  Year Engine Size (L)  Horsepower  \\\n",
      "877         Lotus      Evija  2021        Electric      2000.0   \n",
      "420         Lotus      Evija  2022        Electric      1973.0   \n",
      "987         Lotus      Evija  2022        Electric      1973.0   \n",
      "523         Lotus      Evija  2022        Electric      1973.0   \n",
      "1003        Lotus      Evija  2021  Electric Motor      1972.0   \n",
      "...           ...        ...   ...             ...         ...   \n",
      "194   Lamborghini  Aventador  2021             6.5       730.0   \n",
      "318        Pagani     Huayra  2021               6       730.0   \n",
      "24         Pagani     Huayra  2021               6       720.0   \n",
      "166        Pagani     Huayra  2020               6       720.0   \n",
      "170        Shelby      Cobra  1965               7       435.0   \n",
      "\n",
      "      Torque (lb-ft)  0-60 MPH Time (seconds)  Price (in USD)  \n",
      "877           1254.0                      2.8       2800000.0  \n",
      "420           1254.0                      2.5       2750000.0  \n",
      "987           1254.0                      2.5       2000000.0  \n",
      "523           1254.0                      2.5       2600000.0  \n",
      "1003          1254.0                      2.0       2000000.0  \n",
      "...              ...                      ...             ...  \n",
      "194            509.0                      2.9        517700.0  \n",
      "318            738.0                      3.0       2600000.0  \n",
      "24             737.0                      2.8       2800000.0  \n",
      "166            738.0                      3.0       2700000.0  \n",
      "170            440.0                      4.2       1000000.0  \n",
      "\n",
      "[79 rows x 8 columns]\n"
     ]
    }
   ],
   "source": [
    "# Filter the dataset to include cars with a price greater than $500,000\n",
    "high_price_cars = df[df['Price (in USD)'] > 500000]\n",
    "\n",
    "# Sort the resulting dataset by horsepower in descending order\n",
    "high_price_cars_sorted = high_price_cars.sort_values(by='Horsepower', ascending=False)\n",
    "print(high_price_cars_sorted)\n"
   ]
  },
  {
   "cell_type": "code",
   "execution_count": 79,
   "id": "3bcf7609",
   "metadata": {},
   "outputs": [],
   "source": [
    "# Export the cleaned and transformed dataset to a new CSV file\n",
    "output_path = 'cleaned_sport_car_data.csv'\n",
    "df.to_csv(output_path, index=False)"
   ]
  },
  {
   "cell_type": "code",
   "execution_count": null,
   "id": "bc38b946",
   "metadata": {},
   "outputs": [],
   "source": []
  }
 ],
 "metadata": {
  "kernelspec": {
   "display_name": "Python 3 (ipykernel)",
   "language": "python",
   "name": "python3"
  },
  "language_info": {
   "codemirror_mode": {
    "name": "ipython",
    "version": 3
   },
   "file_extension": ".py",
   "mimetype": "text/x-python",
   "name": "python",
   "nbconvert_exporter": "python",
   "pygments_lexer": "ipython3",
   "version": "3.9.13"
  }
 },
 "nbformat": 4,
 "nbformat_minor": 5
}
