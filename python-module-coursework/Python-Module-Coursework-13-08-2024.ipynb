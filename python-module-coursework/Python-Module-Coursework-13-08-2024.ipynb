{
 "cells": [
  {
   "cell_type": "markdown",
   "id": "744edaba",
   "metadata": {},
   "source": [
    "# Python Module Coursework 13-08-2024"
   ]
  },
  {
   "cell_type": "markdown",
   "id": "cbbb611b",
   "metadata": {},
   "source": [
    "## Topic: Object Oriented Programming using Python"
   ]
  },
  {
   "cell_type": "markdown",
   "id": "71f51da2",
   "metadata": {},
   "source": [
    "The objective of this assignment is to assess the student's understanding of object-oriented programming concepts and their ability to apply these concepts using Python."
   ]
  },
  {
   "cell_type": "markdown",
   "id": "3fa366ce",
   "metadata": {},
   "source": [
    "### Task1: Creating a Class (Abstraction)"
   ]
  },
  {
   "cell_type": "code",
   "execution_count": 1,
   "id": "9624b672",
   "metadata": {},
   "outputs": [],
   "source": [
    "# Import the abstract base class module\n",
    "from abc import ABC, abstractmethod"
   ]
  },
  {
   "cell_type": "markdown",
   "id": "f48c6c10",
   "metadata": {},
   "source": [
    "We are creating an abstract class named `Person` that will serve as a base class for other classes. The class will have attributes like `name`, `age`, `gender`, and `address`.\n",
    "This class will also include an abstract method `introduce`, which must be implemented by any class that inherits from `Person`."
   ]
  },
  {
   "cell_type": "code",
   "execution_count": 2,
   "id": "18d682af",
   "metadata": {},
   "outputs": [],
   "source": [
    "class Person(ABC):\n",
    "    def __init__(self, name, age, gender, address):\n",
    "        \"\"\"\n",
    "        Initializes the Person class with name, age, gender, and address.\n",
    "        \"\"\"\n",
    "        self.name = name\n",
    "        self.age = age\n",
    "        self.gender = gender\n",
    "        self.address = address\n",
    "    def __str__(self):\n",
    "        \"\"\"\n",
    "        Returns a string representation of the person's basic information.\n",
    "        \"\"\"\n",
    "        return f'Name: {self.name}, Age: {self.age}, Gender: {self.gender}, Address: {self.address}'\n",
    "    def greet(self, other_person):\n",
    "        \"\"\"\n",
    "        Greets another person.\n",
    "        Example Output: \"Hello John! My name is Jane.\"\n",
    "        \"\"\"\n",
    "        return f'Hello {other_person.name}! My name is {self.name}.'\n",
    "    @abstractmethod\n",
    "    def introduce(self):\n",
    "        \"\"\"\n",
    "        Abstract method that must be implemented by child classes.\n",
    "        \"\"\"\n",
    "        pass\n",
    "    @staticmethod\n",
    "    def is_adult(age):\n",
    "        \"\"\"\n",
    "        Checks if the given age qualifies as an adult (18 years or older).\n",
    "        Returns True if age is 18 or above, otherwise False.\n",
    "        \"\"\"\n",
    "        return age >= 18"
   ]
  },
  {
   "cell_type": "markdown",
   "id": "66e00ad8",
   "metadata": {},
   "source": [
    "#### Example\n"
   ]
  },
  {
   "cell_type": "code",
   "execution_count": 3,
   "id": "9734ac2e",
   "metadata": {},
   "outputs": [
    {
     "ename": "TypeError",
     "evalue": "Can't instantiate abstract class Person with abstract method introduce",
     "output_type": "error",
     "traceback": [
      "\u001b[1;31m---------------------------------------------------------------------------\u001b[0m",
      "\u001b[1;31mTypeError\u001b[0m                                 Traceback (most recent call last)",
      "\u001b[1;32m~\\AppData\\Local\\Temp\\ipykernel_22444\\246395231.py\u001b[0m in \u001b[0;36m<module>\u001b[1;34m\u001b[0m\n\u001b[1;32m----> 1\u001b[1;33m \u001b[0mperson\u001b[0m \u001b[1;33m=\u001b[0m \u001b[0mPerson\u001b[0m\u001b[1;33m(\u001b[0m\u001b[1;34m\"John\"\u001b[0m\u001b[1;33m,\u001b[0m \u001b[1;36m20\u001b[0m\u001b[1;33m,\u001b[0m \u001b[1;34m\"Male\"\u001b[0m\u001b[1;33m,\u001b[0m \u001b[1;34m\"41 Street\"\u001b[0m\u001b[1;33m)\u001b[0m\u001b[1;33m\u001b[0m\u001b[1;33m\u001b[0m\u001b[0m\n\u001b[0m",
      "\u001b[1;31mTypeError\u001b[0m: Can't instantiate abstract class Person with abstract method introduce"
     ]
    }
   ],
   "source": [
    "person = Person(\"John\", 20, \"Male\", \"41 Street\")"
   ]
  },
  {
   "cell_type": "markdown",
   "id": "34b82412",
   "metadata": {},
   "source": [
    "This will raise an error because Person is abstract"
   ]
  },
  {
   "cell_type": "markdown",
   "id": "4bc1deb3",
   "metadata": {},
   "source": [
    "### Task 2: Single Inheritance, Encapsulation"
   ]
  },
  {
   "cell_type": "markdown",
   "id": "2eac43df",
   "metadata": {},
   "source": [
    "We are creating a class `Employee` that inherits from `Person`. This class will introduce new attributes like `employee_id` (which is private and cannot be modified once set) and `salary` (protected).The class will also manage a counter that tracks the number of Employee instances."
   ]
  },
  {
   "cell_type": "code",
   "execution_count": 14,
   "id": "894308bc",
   "metadata": {},
   "outputs": [],
   "source": [
    "class Employee(Person):\n",
    "    _counter = 0\n",
    "\n",
    "    def __init__(self, name, age, gender, address, salary):\n",
    "        \"\"\"\n",
    "        Initializes the Employee class with name, age, gender, address, and salary.\n",
    "        Also sets the employee_id using a counter.\n",
    "        \"\"\"\n",
    "        super().__init__(name, age, gender, address)\n",
    "        Employee._counter += 1\n",
    "        self.__employee_id = f'EMP{Employee._counter:02}'\n",
    "        self._salary = salary\n",
    "\n",
    "    @property\n",
    "    def employee_id(self):\n",
    "        \"\"\"\n",
    "        Getter for the private attribute employee_id. \n",
    "        The employee_id is read-only.\n",
    "        \"\"\"\n",
    "        return self.__employee_id\n",
    "\n",
    "    @property\n",
    "    def salary(self):\n",
    "        \"\"\"\n",
    "        Getter for the protected attribute salary.\n",
    "        \"\"\"\n",
    "        return self._salary\n",
    "\n",
    "    @salary.setter\n",
    "    def salary(self, value):\n",
    "        \"\"\"\n",
    "        Setter for the protected attribute salary.\n",
    "        Allows modifying the salary of the employee.\n",
    "        \"\"\"\n",
    "        self._salary = value\n",
    "\n",
    "    def increase_salary(self, amount):\n",
    "        \"\"\"\n",
    "        Increases the employee's salary by a specified amount.\n",
    "        \"\"\"\n",
    "        self._salary += amount\n",
    "\n",
    "    def decrease_salary(self, amount):\n",
    "        \"\"\"\n",
    "        Decreases the employee's salary by a specified amount.\n",
    "        \"\"\"\n",
    "        self._salary -= amount\n",
    "\n",
    "    @property\n",
    "    def counter(self):\n",
    "        \"\"\"\n",
    "        Returns the current count of Employee instances.\n",
    "        \"\"\"\n",
    "        return Employee._counter\n",
    "\n",
    "    def introduce(self):\n",
    "        \"\"\"\n",
    "        Introduces the Employee, overriding the abstract method in Person.\n",
    "        \"\"\"\n",
    "        return f'I am an Employee. My ID is {self.employee_id}.'\n",
    "\n",
    "    def __del__(self):\n",
    "        \"\"\"\n",
    "        Decreases the Employee counter when an instance is deleted.\n",
    "        \"\"\"\n",
    "        Employee._counter -= 1"
   ]
  },
  {
   "cell_type": "markdown",
   "id": "a7ba4dc0",
   "metadata": {},
   "source": [
    "#### Example"
   ]
  },
  {
   "cell_type": "code",
   "execution_count": 15,
   "id": "9d622ea7",
   "metadata": {},
   "outputs": [
    {
     "name": "stdout",
     "output_type": "stream",
     "text": [
      "Name: Jane, Age: 25, Gender: Female, Address: 12 Street\n",
      "I am an Employee. My ID is EMP01.\n",
      "New Salary: 65000\n"
     ]
    }
   ],
   "source": [
    "# Creating an Employee instance\n",
    "emp = Employee(\"Jane\", 25, \"Female\", \"12 Street\", 60000)\n",
    "print(emp)  # Using the __str__ method from Person\n",
    "print(emp.introduce())  # Employee's introduce method\n",
    "emp.increase_salary(5000)\n",
    "print(f'New Salary: {emp.salary}')"
   ]
  },
  {
   "cell_type": "markdown",
   "id": "4b928eb6",
   "metadata": {},
   "source": [
    "### Task 3: Multiple Inheritance, Polymorphism"
   ]
  },
  {
   "cell_type": "markdown",
   "id": "94f34ac7",
   "metadata": {},
   "source": [
    "We are creating a class `Teacher` that inherits from both `Employee` and `Person`.This class introduces new attributes like `teacher_id` (which is private and cannot be modified once set) and `subjects` (a list of subjects the teacher can teach).\n",
    "The `employee_id` attribute will raise an AttributeError if accessed on a Teacher instance."
   ]
  },
  {
   "cell_type": "code",
   "execution_count": 16,
   "id": "31940bd0",
   "metadata": {},
   "outputs": [],
   "source": [
    "class Teacher(Employee):\n",
    "    _counter = 0\n",
    "\n",
    "    def __init__(self, name, age, gender, address, salary, subjects=None):\n",
    "        \"\"\"\n",
    "        Initializes the Teacher class with name, age, gender, address, salary, and subjects.\n",
    "        Also sets the teacher_id using a counter.\n",
    "        \"\"\"\n",
    "        super().__init__(name, age, gender, address, salary)\n",
    "        Teacher._counter += 1\n",
    "        self.__teacher_id = f'TEC{Teacher._counter:02}'\n",
    "        if subjects is None:\n",
    "            subjects = []\n",
    "        self.subjects = subjects\n",
    "\n",
    "    @property\n",
    "    def teacher_id(self):\n",
    "        \"\"\"\n",
    "        Getter for the private attribute teacher_id.\n",
    "        The teacher_id is read-only.\n",
    "        \"\"\"\n",
    "        return self.__teacher_id\n",
    "\n",
    "    @property\n",
    "    def employee_id(self):\n",
    "        \"\"\"\n",
    "        Overrides the employee_id attribute to raise an AttributeError for Teacher instances.\n",
    "        \"\"\"\n",
    "        raise AttributeError(f'{self.__class__.__name__} object has no attribute employee_id.')\n",
    "\n",
    "    @property\n",
    "    def counter(self):\n",
    "        \"\"\"\n",
    "        Returns the current count of Teacher instances.\n",
    "        \"\"\"\n",
    "        return Teacher._counter\n",
    "\n",
    "    def add_subject(self, subject):\n",
    "        \"\"\"\n",
    "        Adds a subject to the subjects list.\n",
    "        \"\"\"\n",
    "        self.subjects.append(subject)\n",
    "\n",
    "    def remove_subject(self, subject):\n",
    "        \"\"\"\n",
    "        Removes a subject from the subjects list if it exists.\n",
    "        \"\"\"\n",
    "        if subject in self.subjects:\n",
    "            self.subjects.remove(subject)\n",
    "\n",
    "    def introduce(self):\n",
    "        \"\"\"\n",
    "        Introduces the Teacher, overriding the abstract method in Person.\n",
    "        \"\"\"\n",
    "        return f'I am a Teacher. My ID is {self.teacher_id}. I teach {\", \".join(self.subjects)}.'\n",
    "\n",
    "    def __del__(self):\n",
    "        \"\"\"\n",
    "        Decreases the Teacher counter when an instance is deleted.\n",
    "        \"\"\"\n",
    "        Teacher._counter -= 1"
   ]
  },
  {
   "cell_type": "markdown",
   "id": "74bd15c1",
   "metadata": {},
   "source": [
    "#### Example"
   ]
  },
  {
   "cell_type": "code",
   "execution_count": 17,
   "id": "f86aa594",
   "metadata": {},
   "outputs": [
    {
     "name": "stdout",
     "output_type": "stream",
     "text": [
      "I am a Teacher. My ID is TEC01. I teach Math, Physics.\n",
      "Subjects: ['Math', 'Physics', 'Chemistry']\n",
      "Teacher object has no attribute employee_id.\n"
     ]
    }
   ],
   "source": [
    "# Creating a Teacher instance\n",
    "teacher = Teacher(\"Ram\", 40, \"Male\", \"13 Street\", 70000, [\"Math\", \"Physics\"])\n",
    "print(teacher.introduce())  # Teacher's introduce method\n",
    "teacher.add_subject(\"Chemistry\")\n",
    "print(f'Subjects: {teacher.subjects}')\n",
    "\n",
    "# Attempting to access employee_id on a Teacher instance\n",
    "try:\n",
    "    print(teacher.employee_id)\n",
    "except AttributeError as e:\n",
    "    print(e)"
   ]
  },
  {
   "cell_type": "code",
   "execution_count": null,
   "id": "c1a9720d",
   "metadata": {},
   "outputs": [],
   "source": []
  }
 ],
 "metadata": {
  "kernelspec": {
   "display_name": "Python 3 (ipykernel)",
   "language": "python",
   "name": "python3"
  },
  "language_info": {
   "codemirror_mode": {
    "name": "ipython",
    "version": 3
   },
   "file_extension": ".py",
   "mimetype": "text/x-python",
   "name": "python",
   "nbconvert_exporter": "python",
   "pygments_lexer": "ipython3",
   "version": "3.9.13"
  }
 },
 "nbformat": 4,
 "nbformat_minor": 5
}
